{
 "cells": [
  {
   "cell_type": "code",
   "execution_count": 1,
   "id": "mcL0FcxFFhPs",
   "metadata": {
    "id": "mcL0FcxFFhPs"
   },
   "outputs": [],
   "source": [
    "#https://github.com/philipperemy/keras-attention/blob/master/examples/example-attention.py"
   ]
  },
  {
   "cell_type": "code",
   "execution_count": 2,
   "id": "c4644f6d",
   "metadata": {
    "executionInfo": {
     "elapsed": 3857,
     "status": "ok",
     "timestamp": 1702342032158,
     "user": {
      "displayName": "이명규/컴퓨터공학부(컴퓨터공학전공)",
      "userId": "09675343185158048118"
     },
     "user_tz": -540
    },
    "id": "c4644f6d"
   },
   "outputs": [
    {
     "name": "stderr",
     "output_type": "stream",
     "text": [
      "2025-01-23 10:02:40.672001: E tensorflow/compiler/xla/stream_executor/cuda/cuda_dnn.cc:9360] Unable to register cuDNN factory: Attempting to register factory for plugin cuDNN when one has already been registered\n",
      "2025-01-23 10:02:40.672064: E tensorflow/compiler/xla/stream_executor/cuda/cuda_fft.cc:609] Unable to register cuFFT factory: Attempting to register factory for plugin cuFFT when one has already been registered\n",
      "2025-01-23 10:02:40.672099: E tensorflow/compiler/xla/stream_executor/cuda/cuda_blas.cc:1537] Unable to register cuBLAS factory: Attempting to register factory for plugin cuBLAS when one has already been registered\n",
      "2025-01-23 10:02:40.680937: I tensorflow/core/platform/cpu_feature_guard.cc:183] This TensorFlow binary is optimized to use available CPU instructions in performance-critical operations.\n",
      "To enable the following instructions: SSE3 SSE4.1 SSE4.2 AVX, in other operations, rebuild TensorFlow with the appropriate compiler flags.\n"
     ]
    }
   ],
   "source": [
    "import tensorflow as tf\n",
    "from tensorflow import keras\n",
    "from tensorflow.keras import layers\n",
    "\n",
    "# cnn model vary kernel size\n",
    "from numpy import mean\n",
    "from numpy import std\n",
    "from numpy import dstack\n",
    "from pandas import read_csv\n",
    "from matplotlib import pyplot\n",
    "\n",
    "from tensorflow.keras.utils import to_categorical\n",
    "import tensorflow.keras\n",
    "\n",
    "from tensorflow.keras.models import Sequential\n",
    "from tensorflow.keras.layers import Conv1D, Dense, Dropout, Flatten, Reshape, LSTM, Conv1D, MaxPooling1D, Bidirectional\n",
    "from tensorflow.keras.layers import Input, TimeDistributed, Conv1D, MaxPooling1D, BatchNormalization"
   ]
  },
  {
   "cell_type": "code",
   "execution_count": 3,
   "id": "85c72753",
   "metadata": {
    "executionInfo": {
     "elapsed": 989,
     "status": "ok",
     "timestamp": 1702342036013,
     "user": {
      "displayName": "이명규/컴퓨터공학부(컴퓨터공학전공)",
      "userId": "09675343185158048118"
     },
     "user_tz": -540
    },
    "id": "85c72753"
   },
   "outputs": [],
   "source": [
    "from typing import Any, Dict, List, Tuple\n",
    "import matplotlib.pyplot as plt\n",
    "import seaborn as sns"
   ]
  },
  {
   "cell_type": "code",
   "execution_count": 4,
   "id": "0b31acc0",
   "metadata": {
    "executionInfo": {
     "elapsed": 384,
     "status": "ok",
     "timestamp": 1702342039024,
     "user": {
      "displayName": "이명규/컴퓨터공학부(컴퓨터공학전공)",
      "userId": "09675343185158048118"
     },
     "user_tz": -540
    },
    "id": "0b31acc0"
   },
   "outputs": [],
   "source": [
    "import numpy as np\n",
    "import pandas as pd\n",
    "from tensorflow.keras.utils import to_categorical\n",
    "import matplotlib.pyplot as plt\n",
    "import seaborn as sns\n",
    "\n",
    "\n",
    "def load_file(filepath):\n",
    "    dataframe = pd.read_csv(filepath, header=None, delim_whitespace=True)\n",
    "    return dataframe.values\n",
    "\n",
    "\n",
    "# load a list of files and return as a 3d numpy array\n",
    "def load_group(filenames, prefix=''):\n",
    "    loaded = list()\n",
    "    for name in filenames:\n",
    "        data = load_file(prefix + name)\n",
    "        loaded.append(data)\n",
    "    # stack group so that features are the 3rd dimension\n",
    "    loaded = np.dstack(loaded)\n",
    "    return loaded\n",
    "\n",
    "# load a dataset group, such as train or test\n",
    "def load_dataset_group(group, prefix=''):\n",
    "    filepath = prefix + group + '/Inertial Signals/'\n",
    "    # load all 9 files as a single array\n",
    "    filenames = list()\n",
    "    # total acceleration\n",
    "    filenames += ['total_acc_x_'+group+'.txt', 'total_acc_y_'+group+'.txt', 'total_acc_z_'+group+'.txt']\n",
    "    # body acceleration\n",
    "    filenames += ['body_acc_x_'+group+'.txt', 'body_acc_y_'+group+'.txt', 'body_acc_z_'+group+'.txt']\n",
    "    # body gyroscope\n",
    "    filenames += ['body_gyro_x_'+group+'.txt', 'body_gyro_y_'+group+'.txt', 'body_gyro_z_'+group+'.txt']\n",
    "    # load input data\n",
    "    X = load_group(filenames, filepath)\n",
    "    # load class output\n",
    "    y = load_file(prefix + group + '/y_'+group+'.txt')\n",
    "    return X, y\n",
    "\n",
    "\n",
    "# load the dataset, returns train and test X and y elements\n",
    "def load_dataset(prefix=''):\n",
    "    # load all train\n",
    "    trainX, trainy = load_dataset_group('train', prefix + 'UCI HAR Dataset/')\n",
    "    # load all test\n",
    "    testX, testy = load_dataset_group('test', prefix + 'UCI HAR Dataset/')\n",
    "\n",
    "    #zero-offset class values\n",
    "    trainy = trainy - 1\n",
    "    testy = testy - 1\n",
    "    #one hot encode y\n",
    "    trainy_one_hot = to_categorical(trainy)\n",
    "    testy_one_hot = to_categorical(testy)\n",
    "    print(trainX.shape, trainy.shape, trainy_one_hot.shape, testX.shape, testy.shape, testy_one_hot.shape)\n",
    "    return trainX, trainy, trainy_one_hot, testX, testy, testy_one_hot"
   ]
  },
  {
   "cell_type": "code",
   "execution_count": 5,
   "id": "a1b9d398",
   "metadata": {
    "colab": {
     "base_uri": "https://localhost:8080/"
    },
    "executionInfo": {
     "elapsed": 19464,
     "status": "ok",
     "timestamp": 1702342070705,
     "user": {
      "displayName": "이명규/컴퓨터공학부(컴퓨터공학전공)",
      "userId": "09675343185158048118"
     },
     "user_tz": -540
    },
    "id": "a1b9d398",
    "outputId": "d26ddcd6-d606-4c21-afcd-4d4d79b3ca3d"
   },
   "outputs": [
    {
     "name": "stdout",
     "output_type": "stream",
     "text": [
      "(7352, 128, 9) (7352, 1) (7352, 6) (2947, 128, 9) (2947, 1) (2947, 6)\n"
     ]
    }
   ],
   "source": [
    "trainX, trainy, trainy_one_hot, testX, testy, testy_one_hot = load_dataset()"
   ]
  },
  {
   "cell_type": "code",
   "execution_count": 6,
   "id": "Z5-N7q5pGTI6",
   "metadata": {
    "executionInfo": {
     "elapsed": 27,
     "status": "ok",
     "timestamp": 1702342070705,
     "user": {
      "displayName": "이명규/컴퓨터공학부(컴퓨터공학전공)",
      "userId": "09675343185158048118"
     },
     "user_tz": -540
    },
    "id": "Z5-N7q5pGTI6"
   },
   "outputs": [],
   "source": [
    "from sklearn.preprocessing import StandardScaler\n",
    "\n",
    "def scale_data(trainX, testX):\n",
    " # remove overlap\n",
    " cut = int(trainX.shape[1] / 2)\n",
    " longX = trainX[:, -cut:, :]\n",
    " # flatten windows\n",
    " longX = longX.reshape((longX.shape[0] * longX.shape[1], longX.shape[2]))\n",
    " # flatten train and test\n",
    " flatTrainX = trainX.reshape((trainX.shape[0] * trainX.shape[1], trainX.shape[2]))\n",
    " flatTestX = testX.reshape((testX.shape[0] * testX.shape[1], testX.shape[2]))\n",
    "\n",
    " s = StandardScaler()\n",
    " # fit on training data\n",
    " s.fit(longX)\n",
    " # apply to training and test data\n",
    " longX = s.transform(longX)\n",
    " flatTrainX = s.transform(flatTrainX)\n",
    " flatTestX = s.transform(flatTestX)\n",
    " # reshape\n",
    " flatTrainX = flatTrainX.reshape((trainX.shape))\n",
    " flatTestX = flatTestX.reshape((testX.shape))\n",
    " return flatTrainX, flatTestX\n"
   ]
  },
  {
   "cell_type": "code",
   "execution_count": 7,
   "id": "rarLQhVGGTSZ",
   "metadata": {
    "executionInfo": {
     "elapsed": 26,
     "status": "ok",
     "timestamp": 1702342070705,
     "user": {
      "displayName": "이명규/컴퓨터공학부(컴퓨터공학전공)",
      "userId": "09675343185158048118"
     },
     "user_tz": -540
    },
    "id": "rarLQhVGGTSZ"
   },
   "outputs": [],
   "source": [
    "#trainX, testX = scale_data(trainX, testX)"
   ]
  },
  {
   "cell_type": "code",
   "execution_count": 8,
   "id": "86bd7d6e",
   "metadata": {
    "colab": {
     "base_uri": "https://localhost:8080/"
    },
    "executionInfo": {
     "elapsed": 27,
     "status": "ok",
     "timestamp": 1702342070706,
     "user": {
      "displayName": "이명규/컴퓨터공학부(컴퓨터공학전공)",
      "userId": "09675343185158048118"
     },
     "user_tz": -540
    },
    "id": "86bd7d6e",
    "outputId": "ed6b674b-7281-47f3-cd37-05ddb9270d1f"
   },
   "outputs": [
    {
     "name": "stdout",
     "output_type": "stream",
     "text": [
      "X train shape:  (7352, 128, 9)\n",
      "Y train shape:  (7352, 1)\n",
      "Y train One hot shape:  (7352, 6)\n",
      "X test shape:  (2947, 128, 9)\n",
      "Y test shape:  (2947, 1)\n",
      "Y test One hot shape:  (2947, 6)\n"
     ]
    }
   ],
   "source": [
    "print(\"X train shape: \", trainX.shape)\n",
    "print(\"Y train shape: \", trainy.shape)\n",
    "print(\"Y train One hot shape: \", trainy_one_hot.shape)\n",
    "print(\"X test shape: \", testX.shape)\n",
    "print(\"Y test shape: \", testy.shape)\n",
    "print(\"Y test One hot shape: \", testy_one_hot.shape)"
   ]
  },
  {
   "cell_type": "code",
   "execution_count": 9,
   "id": "4ef856da",
   "metadata": {
    "colab": {
     "base_uri": "https://localhost:8080/"
    },
    "executionInfo": {
     "elapsed": 25,
     "status": "ok",
     "timestamp": 1702342070706,
     "user": {
      "displayName": "이명규/컴퓨터공학부(컴퓨터공학전공)",
      "userId": "09675343185158048118"
     },
     "user_tz": -540
    },
    "id": "4ef856da",
    "outputId": "33546ae9-2659-4c54-f7c5-9edc5bf2cece",
    "scrolled": true
   },
   "outputs": [
    {
     "name": "stdout",
     "output_type": "stream",
     "text": [
      "0: Walking: 1226\n",
      "1: WU: 1073\n",
      "2: WD: 986\n",
      "3: Sitting: 1286\n",
      "4: Standing: 1374\n",
      "5: Standing: 1374\n",
      "6: Laying: 1407\n"
     ]
    }
   ],
   "source": [
    "print(\"0: Walking:\" ,np.where(trainy == 0)[0].size)\n",
    "print(\"1: WU:\" ,np.where(trainy == 1)[0].size)\n",
    "print(\"2: WD:\" ,np.where(trainy == 2)[0].size)\n",
    "print(\"3: Sitting:\" ,np.where(trainy == 3)[0].size)\n",
    "print(\"4: Standing:\" ,np.where(trainy == 4)[0].size)\n",
    "print(\"5: Standing:\" ,np.where(trainy == 4)[0].size)\n",
    "print(\"6: Laying:\" ,np.where(trainy == 5)[0].size)"
   ]
  },
  {
   "cell_type": "code",
   "execution_count": 10,
   "id": "6eb08f26",
   "metadata": {
    "colab": {
     "base_uri": "https://localhost:8080/"
    },
    "executionInfo": {
     "elapsed": 22,
     "status": "ok",
     "timestamp": 1702342070706,
     "user": {
      "displayName": "이명규/컴퓨터공학부(컴퓨터공학전공)",
      "userId": "09675343185158048118"
     },
     "user_tz": -540
    },
    "id": "6eb08f26",
    "outputId": "47d0f628-6151-4729-a21a-ecf00fe8ec31"
   },
   "outputs": [
    {
     "name": "stdout",
     "output_type": "stream",
     "text": [
      "Train data label statistics::\n",
      "[[   0 1226]\n",
      " [   1 1073]\n",
      " [   2  986]\n",
      " [   3 1286]\n",
      " [   4 1374]\n",
      " [   5 1407]]\n",
      "Test data label statistics::\n",
      "[[  0 496]\n",
      " [  1 471]\n",
      " [  2 420]\n",
      " [  3 491]\n",
      " [  4 532]\n",
      " [  5 537]]\n"
     ]
    }
   ],
   "source": [
    "unique, counts = np.unique(trainy, return_counts=True)\n",
    "print (\"Train data label statistics::\")\n",
    "print (np.asarray((unique, counts)).T)\n",
    "\n",
    "unique, counts = np.unique(testy, return_counts=True)\n",
    "print (\"Test data label statistics::\")\n",
    "print (np.asarray((unique, counts)).T)"
   ]
  },
  {
   "cell_type": "code",
   "execution_count": 11,
   "id": "cc73f09e",
   "metadata": {
    "executionInfo": {
     "elapsed": 19,
     "status": "ok",
     "timestamp": 1702342070706,
     "user": {
      "displayName": "이명규/컴퓨터공학부(컴퓨터공학전공)",
      "userId": "09675343185158048118"
     },
     "user_tz": -540
    },
    "id": "cc73f09e"
   },
   "outputs": [],
   "source": [
    "X_train_all = trainX   # at this stage, the data includes both dynamic and static HAR data\n",
    "y_train_all = trainy\n",
    "\n",
    "X_test_all = testX\n",
    "y_test_all = testy"
   ]
  },
  {
   "cell_type": "code",
   "execution_count": 12,
   "id": "66a7a85d",
   "metadata": {
    "colab": {
     "base_uri": "https://localhost:8080/"
    },
    "executionInfo": {
     "elapsed": 19,
     "status": "ok",
     "timestamp": 1702342070706,
     "user": {
      "displayName": "이명규/컴퓨터공학부(컴퓨터공학전공)",
      "userId": "09675343185158048118"
     },
     "user_tz": -540
    },
    "id": "66a7a85d",
    "outputId": "55860744-914e-49c9-bacb-655a2be1e0ab"
   },
   "outputs": [
    {
     "name": "stderr",
     "output_type": "stream",
     "text": [
      "/tmp/ipykernel_10622/1571964428.py:11: DeprecationWarning: The *random* parameter to shuffle() has been deprecated\n",
      "since Python 3.9 and will be removed in a subsequent version.\n",
      "  random.shuffle(dynamic_list, lambda: r)\n"
     ]
    }
   ],
   "source": [
    "import random\n",
    "\n",
    "dynamic_1 = np.where(trainy == 0)[0]\n",
    "dynamic_2 = np.where(trainy  == 1)[0]\n",
    "dynamic_3 = np.where(trainy  == 2)[0]\n",
    "dynamic = np.concatenate([dynamic_1, dynamic_2, dynamic_3])\n",
    "dynamic_list = dynamic.tolist()\n",
    "\n",
    "# Shuffle dynamic data index\n",
    "r = random.random()\n",
    "random.shuffle(dynamic_list, lambda: r)\n",
    "\n",
    "dynamic = np.array(dynamic_list)\n",
    "\n",
    "trainX = X_train_all[dynamic]\n",
    "trainy = y_train_all[dynamic]"
   ]
  },
  {
   "cell_type": "code",
   "execution_count": 13,
   "id": "a5ccaeb7",
   "metadata": {
    "colab": {
     "base_uri": "https://localhost:8080/"
    },
    "executionInfo": {
     "elapsed": 15,
     "status": "ok",
     "timestamp": 1702342070706,
     "user": {
      "displayName": "이명규/컴퓨터공학부(컴퓨터공학전공)",
      "userId": "09675343185158048118"
     },
     "user_tz": -540
    },
    "id": "a5ccaeb7",
    "outputId": "f25749e1-0efe-4433-b4a6-816454cff32e"
   },
   "outputs": [
    {
     "name": "stderr",
     "output_type": "stream",
     "text": [
      "/tmp/ipykernel_10622/3566874998.py:8: DeprecationWarning: The *random* parameter to shuffle() has been deprecated\n",
      "since Python 3.9 and will be removed in a subsequent version.\n",
      "  random.shuffle(dynamic_list, lambda: r)\n"
     ]
    }
   ],
   "source": [
    "dynamic_1 = np.where(testy == 0)[0]\n",
    "dynamic_2 = np.where(testy == 1)[0]\n",
    "dynamic_3 = np.where(testy == 2)[0]\n",
    "dynamic = np.concatenate([dynamic_1, dynamic_2, dynamic_3])\n",
    "dynamic_list = dynamic.tolist()\n",
    "\n",
    "r = random.random()\n",
    "random.shuffle(dynamic_list, lambda: r)\n",
    "\n",
    "dynamic = np.array(dynamic_list)\n",
    "\n",
    "testX = X_test_all[dynamic]\n",
    "testy = y_test_all[dynamic]"
   ]
  },
  {
   "cell_type": "code",
   "execution_count": 14,
   "id": "bf664c2a",
   "metadata": {
    "colab": {
     "base_uri": "https://localhost:8080/"
    },
    "executionInfo": {
     "elapsed": 539,
     "status": "ok",
     "timestamp": 1702342071232,
     "user": {
      "displayName": "이명규/컴퓨터공학부(컴퓨터공학전공)",
      "userId": "09675343185158048118"
     },
     "user_tz": -540
    },
    "id": "bf664c2a",
    "outputId": "46929cd1-c879-4009-a322-c488e9d21a90"
   },
   "outputs": [
    {
     "name": "stdout",
     "output_type": "stream",
     "text": [
      "0: Walking: 1226\n",
      "1: WU: 1073\n",
      "2: WD: 986\n",
      "3: Sitting: 0\n",
      "4: Standing: 0\n",
      "5: Laying: 0\n"
     ]
    }
   ],
   "source": [
    "print(\"0: Walking:\" ,np.where(trainy == 0)[0].size)\n",
    "print(\"1: WU:\" ,np.where(trainy == 1)[0].size)\n",
    "print(\"2: WD:\" ,np.where(trainy == 2)[0].size)\n",
    "print(\"3: Sitting:\" ,np.where(trainy == 3)[0].size)\n",
    "print(\"4: Standing:\" ,np.where(trainy == 4)[0].size)\n",
    "print(\"5: Laying:\" ,np.where(trainy == 5)[0].size)"
   ]
  },
  {
   "cell_type": "code",
   "execution_count": 15,
   "id": "314db362",
   "metadata": {
    "executionInfo": {
     "elapsed": 538,
     "status": "ok",
     "timestamp": 1702342071233,
     "user": {
      "displayName": "이명규/컴퓨터공학부(컴퓨터공학전공)",
      "userId": "09675343185158048118"
     },
     "user_tz": -540
    },
    "id": "314db362"
   },
   "outputs": [],
   "source": [
    "trainy_one_hot = to_categorical(trainy)\n",
    "testy_one_hot = to_categorical(testy)"
   ]
  },
  {
   "cell_type": "code",
   "execution_count": 16,
   "id": "4351f860",
   "metadata": {
    "colab": {
     "base_uri": "https://localhost:8080/"
    },
    "executionInfo": {
     "elapsed": 10,
     "status": "ok",
     "timestamp": 1702342071233,
     "user": {
      "displayName": "이명규/컴퓨터공학부(컴퓨터공학전공)",
      "userId": "09675343185158048118"
     },
     "user_tz": -540
    },
    "id": "4351f860",
    "outputId": "2dd35d9f-932f-4736-f661-3459628f6fed"
   },
   "outputs": [
    {
     "name": "stdout",
     "output_type": "stream",
     "text": [
      "X train shape:  (3285, 128, 9)\n",
      "Y train shape:  (3285, 1)\n",
      "Y train One hot shape:  (3285, 3)\n",
      "X test shape:  (1387, 128, 9)\n",
      "Y test shape:  (1387, 1)\n",
      "Y test One hot shape:  (1387, 3)\n"
     ]
    }
   ],
   "source": [
    "print(\"X train shape: \", trainX.shape)\n",
    "print(\"Y train shape: \", trainy.shape)\n",
    "print(\"Y train One hot shape: \", trainy_one_hot.shape)\n",
    "print(\"X test shape: \", testX.shape)\n",
    "print(\"Y test shape: \", testy.shape)\n",
    "print(\"Y test One hot shape: \", testy_one_hot.shape)"
   ]
  },
  {
   "cell_type": "code",
   "execution_count": 17,
   "id": "c4dfd927",
   "metadata": {
    "colab": {
     "base_uri": "https://localhost:8080/"
    },
    "executionInfo": {
     "elapsed": 9,
     "status": "ok",
     "timestamp": 1702342071233,
     "user": {
      "displayName": "이명규/컴퓨터공학부(컴퓨터공학전공)",
      "userId": "09675343185158048118"
     },
     "user_tz": -540
    },
    "id": "c4dfd927",
    "outputId": "a3e9c794-2d4d-446f-f65e-39d0cd61b6b1"
   },
   "outputs": [
    {
     "name": "stdout",
     "output_type": "stream",
     "text": [
      "Train data label statistics::\n",
      "[[   0 1226]\n",
      " [   1 1073]\n",
      " [   2  986]]\n",
      "Test data label statistics::\n",
      "[[  0 496]\n",
      " [  1 471]\n",
      " [  2 420]]\n"
     ]
    }
   ],
   "source": [
    "unique, counts = np.unique(trainy, return_counts=True)\n",
    "print (\"Train data label statistics::\")\n",
    "print (np.asarray((unique, counts)).T)\n",
    "\n",
    "unique, counts = np.unique(testy, return_counts=True)\n",
    "print (\"Test data label statistics::\")\n",
    "print (np.asarray((unique, counts)).T)"
   ]
  },
  {
   "cell_type": "code",
   "execution_count": 18,
   "id": "249a2206",
   "metadata": {
    "executionInfo": {
     "elapsed": 7,
     "status": "ok",
     "timestamp": 1702342071234,
     "user": {
      "displayName": "이명규/컴퓨터공학부(컴퓨터공학전공)",
      "userId": "09675343185158048118"
     },
     "user_tz": -540
    },
    "id": "249a2206"
   },
   "outputs": [],
   "source": [
    "from sklearn.model_selection import train_test_split\n",
    "X_train,X_val,y_train_one_hot,y_val_one_hot,y_train,y_val=train_test_split(trainX, trainy_one_hot, trainy,test_size=0.3,random_state=100)"
   ]
  },
  {
   "cell_type": "code",
   "execution_count": 19,
   "id": "29c4302b",
   "metadata": {},
   "outputs": [
    {
     "name": "stdout",
     "output_type": "stream",
     "text": [
      "6\n"
     ]
    }
   ],
   "source": [
    "from sklearn.preprocessing import StandardScaler\n",
    "from sklearn.decomposition import PCA\n",
    "\n",
    "# Standard Scaling\n",
    "scaler_std = StandardScaler()\n",
    "\n",
    "# 데이터 평탄화 후 스케일링\n",
    "trainX_flat_std = X_train.reshape(-1, 9)\n",
    "testX_flat_std = testX.reshape(-1, 9)\n",
    "valX_flat_std = X_val.reshape(-1, 9)\n",
    "\n",
    "trainX_std = scaler_std.fit_transform(trainX_flat_std)\n",
    "testX_std = scaler_std.transform(testX_flat_std)\n",
    "valX_std = scaler_std.transform(valX_flat_std)\n",
    "\n",
    "# PCA 적용\n",
    "n_components = 0.9  # 원하는 차원 수\n",
    "pca = PCA(n_components=n_components)\n",
    "trainX_pca = pca.fit_transform(trainX_std)\n",
    "testX_pca = pca.transform(testX_std)\n",
    "valX_pca = pca.transform(valX_std)\n",
    "\n",
    "print(pca.n_components_)"
   ]
  },
  {
   "cell_type": "code",
   "execution_count": 20,
   "id": "278efdbf",
   "metadata": {},
   "outputs": [
    {
     "name": "stdout",
     "output_type": "stream",
     "text": [
      "Standard Scaled trainX shape: (2299, 128, 6)\n",
      "Standard Scaled testX shape: (1387, 128, 6)\n",
      "Standard Scaled valX shape: (986, 128, 6)\n"
     ]
    }
   ],
   "source": [
    "# 시간 축과 feature 축 설정\n",
    "timesteps = 128  # 원래 시간 축 크기\n",
    "components = pca.n_components_\n",
    "# 원래 형태로 변환\n",
    "X_train = trainX_pca.reshape(-1, timesteps, components)\n",
    "testX = testX_pca.reshape(-1, timesteps, components)\n",
    "X_val = valX_pca.reshape(-1, timesteps, components)\n",
    "\n",
    "print(\"Standard Scaled trainX shape:\", X_train.shape)\n",
    "print(\"Standard Scaled testX shape:\", testX.shape)\n",
    "print(\"Standard Scaled valX shape:\", X_val.shape)"
   ]
  },
  {
   "cell_type": "code",
   "execution_count": 21,
   "id": "42668d40",
   "metadata": {
    "executionInfo": {
     "elapsed": 3,
     "status": "ok",
     "timestamp": 1702342071533,
     "user": {
      "displayName": "이명규/컴퓨터공학부(컴퓨터공학전공)",
      "userId": "09675343185158048118"
     },
     "user_tz": -540
    },
    "id": "42668d40"
   },
   "outputs": [],
   "source": [
    "def class_breakdown(data):\n",
    "    # convert the numpy array into a dataframe\n",
    "    df = pd.DataFrame(data)\n",
    "    # group data by the class value and calculate the number of rows\n",
    "    counts = df.groupby(0).size()\n",
    "    # retrieve raw rows\n",
    "    counts = counts.values\n",
    "    # summarize\n",
    "    for i in range(len(counts)):\n",
    "        percent = counts[i] / len(df) * 100\n",
    "        print('Class=%d, total=%d, percentage=%.3f' % (i+1, counts[i], percent))"
   ]
  },
  {
   "cell_type": "code",
   "execution_count": 22,
   "id": "16eff6cb",
   "metadata": {
    "colab": {
     "base_uri": "https://localhost:8080/"
    },
    "executionInfo": {
     "elapsed": 4,
     "status": "ok",
     "timestamp": 1702342072547,
     "user": {
      "displayName": "이명규/컴퓨터공학부(컴퓨터공학전공)",
      "userId": "09675343185158048118"
     },
     "user_tz": -540
    },
    "id": "16eff6cb",
    "outputId": "84b85009-9f8a-4d8c-cb35-c0d1b2d58220"
   },
   "outputs": [
    {
     "name": "stdout",
     "output_type": "stream",
     "text": [
      "Class=1, total=830, percentage=36.103\n",
      "Class=2, total=753, percentage=32.753\n",
      "Class=3, total=716, percentage=31.144\n"
     ]
    }
   ],
   "source": [
    "class_breakdown(y_train)"
   ]
  },
  {
   "cell_type": "code",
   "execution_count": 23,
   "id": "27bd5863",
   "metadata": {
    "colab": {
     "base_uri": "https://localhost:8080/"
    },
    "executionInfo": {
     "elapsed": 6,
     "status": "ok",
     "timestamp": 1702342073493,
     "user": {
      "displayName": "이명규/컴퓨터공학부(컴퓨터공학전공)",
      "userId": "09675343185158048118"
     },
     "user_tz": -540
    },
    "id": "27bd5863",
    "outputId": "3891e501-9025-4cd8-ef0d-4d06aaa5973c"
   },
   "outputs": [
    {
     "name": "stdout",
     "output_type": "stream",
     "text": [
      "Class=1, total=396, percentage=40.162\n",
      "Class=2, total=320, percentage=32.454\n",
      "Class=3, total=270, percentage=27.383\n"
     ]
    }
   ],
   "source": [
    "class_breakdown(y_val)"
   ]
  },
  {
   "cell_type": "code",
   "execution_count": 24,
   "id": "a899d737",
   "metadata": {
    "executionInfo": {
     "elapsed": 4,
     "status": "ok",
     "timestamp": 1702342077867,
     "user": {
      "displayName": "이명규/컴퓨터공학부(컴퓨터공학전공)",
      "userId": "09675343185158048118"
     },
     "user_tz": -540
    },
    "id": "a899d737"
   },
   "outputs": [],
   "source": [
    "import os\n",
    "\n",
    "from tensorflow.keras import backend as K\n",
    "from tensorflow.keras.layers import Dense, Lambda, Dot, Activation, Concatenate, Layer, RepeatVector, Add, Permute, Multiply\n",
    "\n",
    "# KERAS_ATTENTION_DEBUG: If set to 1. Will switch to debug mode.\n",
    "# In debug mode, the class Attention is no longer a Keras layer.\n",
    "# What it means in practice is that we can have access to the internal values\n",
    "# of each tensor. If we don't use debug, Keras treats the object\n",
    "# as a layer, and we can only get the final output.\n",
    "debug_flag = int(os.environ.get('KERAS_ATTENTION_DEBUG', 0))\n",
    "\n",
    "\n",
    "# References:\n",
    "# - https://arxiv.org/pdf/1508.04025.pdf (Luong).\n",
    "# - https://arxiv.org/pdf/1409.0473.pdf (Bahdanau).\n",
    "# - https://machinelearningmastery.com/the-bahdanau-attention-mechanism/ (Some more explanation).\n",
    "\n",
    "class Attention(object if debug_flag else Layer):\n",
    "    SCORE_LUONG = 'luong'\n",
    "    SCORE_BAHDANAU = 'bahdanau'\n",
    "\n",
    "    def __init__(self, units: int = 128, score: str = 'luong', **kwargs):\n",
    "        super(Attention, self).__init__(**kwargs)\n",
    "        if score not in {self.SCORE_LUONG, self.SCORE_BAHDANAU}:\n",
    "            raise ValueError(f'Possible values for score are: [{self.SCORE_LUONG}] and [{self.SCORE_BAHDANAU}].')\n",
    "        self.units = units\n",
    "        self.score = score\n",
    "\n",
    "    # noinspection PyAttributeOutsideInit\n",
    "    def build(self, input_shape):\n",
    "        input_dim = int(input_shape[-1])\n",
    "        with K.name_scope(self.name if not debug_flag else 'attention'):\n",
    "            # W in W*h_S.\n",
    "            if self.score == self.SCORE_LUONG:\n",
    "                self.luong_w = Dense(input_dim, use_bias=False, name='luong_w')\n",
    "                # dot : last hidden state H_t and every hidden state H_s.\n",
    "                self.luong_dot = Dot(axes=[1, 2], name='attention_score')\n",
    "            else:\n",
    "                # Dense implements the operation: output = activation(dot(input, kernel) + bias)\n",
    "                self.bahdanau_v = Dense(1, use_bias=False, name='bahdanau_v')\n",
    "                self.bahdanau_w1 = Dense(input_dim, use_bias=False, name='bahdanau_w1')\n",
    "                self.bahdanau_w2 = Dense(input_dim, use_bias=False, name='bahdanau_w2')\n",
    "                self.bahdanau_repeat = RepeatVector(input_shape[1])\n",
    "                self.bahdanau_tanh = Activation('tanh', name='bahdanau_tanh')\n",
    "                self.bahdanau_add = Add()\n",
    "\n",
    "            self.h_t = Lambda(lambda x: x[:, -1, :], output_shape=(input_dim,), name='last_hidden_state')\n",
    "\n",
    "            # exp / sum(exp) -> softmax.\n",
    "            self.softmax_normalizer = Activation('softmax', name='attention_weight')\n",
    "\n",
    "            # dot : score * every hidden state H_s.\n",
    "            # dot product. SUM(v1*v2). H_s = every source hidden state.\n",
    "            self.dot_context = Dot(axes=[1, 1], name='context_vector')\n",
    "\n",
    "            # [Ct; ht]\n",
    "            self.concat_c_h = Concatenate(name='attention_output')\n",
    "\n",
    "            # x -> tanh(w_c(x))\n",
    "            self.w_c = Dense(self.units, use_bias=False, activation='tanh', name='attention_vector')\n",
    "        if not debug_flag:\n",
    "            # debug: the call to build() is done in call().\n",
    "            super(Attention, self).build(input_shape)\n",
    "\n",
    "    def compute_output_shape(self, input_shape):\n",
    "        return input_shape[0], self.units\n",
    "\n",
    "    def __call__(self, inputs, training=None, **kwargs):\n",
    "        if debug_flag:\n",
    "            return self.call(inputs, training, **kwargs)\n",
    "        else:\n",
    "            return super(Attention, self).__call__(inputs, training, **kwargs)\n",
    "\n",
    "    # noinspection PyUnusedLocal\n",
    "    def call(self, inputs, training=None, **kwargs):\n",
    "        \"\"\"\n",
    "        Many-to-one attention mechanism for Keras. Supports:\n",
    "            - Luong's multiplicative style.\n",
    "            - Bahdanau's additive style.\n",
    "        @param inputs: 3D tensor with shape (batch_size, time_steps, input_dim).\n",
    "        @param training: not used in this layer.\n",
    "        @return: 2D tensor with shape (batch_size, units)\n",
    "        @author: philipperemy, felixhao28.\n",
    "        \"\"\"\n",
    "        h_s = inputs\n",
    "        if debug_flag:\n",
    "            self.build(h_s.shape)\n",
    "        h_t = self.h_t(h_s)\n",
    "        if self.score == self.SCORE_LUONG:\n",
    "            # Luong's multiplicative style.\n",
    "            score = self.luong_dot([h_t, self.luong_w(h_s)])\n",
    "        else:\n",
    "            # Bahdanau's additive style.\n",
    "            self.bahdanau_w1(h_s)\n",
    "            a1 = self.bahdanau_w1(h_t)\n",
    "            a2 = self.bahdanau_w2(h_s)\n",
    "            a1 = self.bahdanau_repeat(a1)\n",
    "            score = self.bahdanau_tanh(self.bahdanau_add([a1, a2]))\n",
    "            score = self.bahdanau_v(score)\n",
    "            score = K.squeeze(score, axis=-1)\n",
    "\n",
    "        alpha_s = self.softmax_normalizer(score)\n",
    "        context_vector = self.dot_context([h_s, alpha_s])\n",
    "        a_t = self.w_c(self.concat_c_h([context_vector, h_t]))\n",
    "        return a_t\n",
    "\n",
    "    def get_config(self):\n",
    "        config = super(Attention, self).get_config()\n",
    "        config.update({'units': self.units, 'score': self.score})\n",
    "        return config"
   ]
  },
  {
   "cell_type": "code",
   "execution_count": 25,
   "id": "SzggvmGUaW4h",
   "metadata": {
    "executionInfo": {
     "elapsed": 3,
     "status": "ok",
     "timestamp": 1702342081388,
     "user": {
      "displayName": "이명규/컴퓨터공학부(컴퓨터공학전공)",
      "userId": "09675343185158048118"
     },
     "user_tz": -540
    },
    "id": "SzggvmGUaW4h"
   },
   "outputs": [],
   "source": [
    "SINGLE_ATTENTION_VECTOR = False\n",
    "INPUT_DIMS = 3\n",
    "\n",
    "def attention_3d_block(inputs):\n",
    "    # inputs.shape = (batch_size, time_steps, input_dim)\n",
    "    input_dim = int(inputs.shape[2])\n",
    "    a = inputs\n",
    "    a = tf.keras.layers.Permute((2, 1))(inputs)\n",
    "    #a = Reshape((input_dim, TIME_STEPS))(a) # this line is not useful. It's just to know which dimension is what.\n",
    "    a = Dense(input_dim, activation='softmax')(a)\n",
    "    if SINGLE_ATTENTION_VECTOR:\n",
    "        a = Lambda(lambda x: K.mean(x, axis=1), name='dim_reduction')(a)\n",
    "        a = RepeatVector(input_dim)(a)\n",
    "    a_probs = Permute((1, 2), name='attention_vec')(a)\n",
    "\n",
    "    #output_attention_mul = merge([inputs, a_probs], name='attention_mul', mode='mul')\n",
    "    output_attention_mul = Multiply()([inputs, a_probs])\n",
    "    return output_attention_mul\n",
    "\n",
    "# Another way of writing the attention mechanism is suitable for the use of the above error source:https://blog.csdn.net/uhauha2929/article/details/80733255\n",
    "def attention_3d_block2(inputs, single_attention_vector=False):\n",
    "    # If the upper layer is LSTM, you need return_sequences=True\n",
    "    # inputs.shape = (batch_size, time_steps, input_dim)\n",
    "    time_steps = K.int_shape(inputs)[1]\n",
    "    input_dim = K.int_shape(inputs)[2]\n",
    "    a = Permute((2, 1))(inputs)\n",
    "    a = Dense(time_steps, activation='softmax')(a)\n",
    "    if single_attention_vector:\n",
    "        a = Lambda(lambda x: K.mean(x, axis=1))(a)\n",
    "        a = RepeatVector(input_dim)(a)\n",
    "\n",
    "    a_probs = Permute((2, 1))(a)\n",
    "    # Multiplied by the attention weight, but there is no summation, it seems to have little effect\n",
    "    # If you classify tasks, you can do Flatten expansion\n",
    "    # element-wise\n",
    "    output_attention_mul = Multiply()([inputs, a_probs])\n",
    "    return output_attention_mul\n"
   ]
  },
  {
   "cell_type": "code",
   "execution_count": 26,
   "id": "LlQ4BfATdPAv",
   "metadata": {
    "executionInfo": {
     "elapsed": 2,
     "status": "ok",
     "timestamp": 1702342083274,
     "user": {
      "displayName": "이명규/컴퓨터공학부(컴퓨터공학전공)",
      "userId": "09675343185158048118"
     },
     "user_tz": -540
    },
    "id": "LlQ4BfATdPAv"
   },
   "outputs": [],
   "source": [
    "INPUT_DIMS = 3"
   ]
  },
  {
   "cell_type": "code",
   "execution_count": 27,
   "id": "5461bd3d",
   "metadata": {
    "executionInfo": {
     "elapsed": 308,
     "status": "ok",
     "timestamp": 1702342505809,
     "user": {
      "displayName": "이명규/컴퓨터공학부(컴퓨터공학전공)",
      "userId": "09675343185158048118"
     },
     "user_tz": -540
    },
    "id": "5461bd3d"
   },
   "outputs": [],
   "source": [
    "#score='luong'\n",
    "score='bahdanau'"
   ]
  },
  {
   "cell_type": "code",
   "execution_count": 28,
   "id": "059bdfc2",
   "metadata": {
    "colab": {
     "base_uri": "https://localhost:8080/"
    },
    "executionInfo": {
     "elapsed": 324,
     "status": "ok",
     "timestamp": 1702342507980,
     "user": {
      "displayName": "이명규/컴퓨터공학부(컴퓨터공학전공)",
      "userId": "09675343185158048118"
     },
     "user_tz": -540
    },
    "id": "059bdfc2",
    "outputId": "22364192-71ed-4eb6-b43f-c9258ec00208"
   },
   "outputs": [
    {
     "data": {
      "text/plain": [
       "(128, 6, 3)"
      ]
     },
     "execution_count": 28,
     "metadata": {},
     "output_type": "execute_result"
    }
   ],
   "source": [
    "n_timesteps, n_features, n_outputs = X_train.shape[1], X_train.shape[2], trainy_one_hot.shape[1]\n",
    "n_timesteps, n_features, n_outputs"
   ]
  },
  {
   "cell_type": "code",
   "execution_count": 29,
   "id": "oqy1TRPEKfPp",
   "metadata": {
    "colab": {
     "base_uri": "https://localhost:8080/"
    },
    "executionInfo": {
     "elapsed": 1614,
     "status": "ok",
     "timestamp": 1702342666340,
     "user": {
      "displayName": "이명규/컴퓨터공학부(컴퓨터공학전공)",
      "userId": "09675343185158048118"
     },
     "user_tz": -540
    },
    "id": "oqy1TRPEKfPp",
    "outputId": "9c74e672-21c7-41a3-c7fc-fa63fe868eb2"
   },
   "outputs": [
    {
     "name": "stderr",
     "output_type": "stream",
     "text": [
      "2025-01-23 10:02:46.790444: I tensorflow/core/common_runtime/gpu/gpu_device.cc:1883] Created device /job:localhost/replica:0/task:0/device:GPU:0 with 38698 MB memory:  -> device: 0, name: CUDA GPU, pci bus id: 0000:cd:00.0, compute capability: 8.0\n"
     ]
    },
    {
     "name": "stdout",
     "output_type": "stream",
     "text": [
      "Model: \"model\"\n",
      "__________________________________________________________________________________________________\n",
      " Layer (type)                Output Shape                 Param #   Connected to                  \n",
      "==================================================================================================\n",
      " input_1 (InputLayer)        [(None, 128, 6)]             0         []                            \n",
      "                                                                                                  \n",
      " lstm (LSTM)                 (None, 128, 128)             69120     ['input_1[0][0]']             \n",
      "                                                                                                  \n",
      " lstm_1 (LSTM)               (None, 128, 128)             131584    ['lstm[0][0]']                \n",
      "                                                                                                  \n",
      " lstm_2 (LSTM)               (None, 128, 128)             131584    ['lstm_1[0][0]']              \n",
      "                                                                                                  \n",
      " dropout (Dropout)           (None, 128, 128)             0         ['lstm_2[0][0]']              \n",
      "                                                                                                  \n",
      " permute (Permute)           (None, 128, 128)             0         ['dropout[0][0]']             \n",
      "                                                                                                  \n",
      " dense (Dense)               (None, 128, 128)             16512     ['permute[0][0]']             \n",
      "                                                                                                  \n",
      " attention_vec (Permute)     (None, 128, 128)             0         ['dense[0][0]']               \n",
      "                                                                                                  \n",
      " multiply (Multiply)         (None, 128, 128)             0         ['dropout[0][0]',             \n",
      "                                                                     'attention_vec[0][0]']       \n",
      "                                                                                                  \n",
      " flatten (Flatten)           (None, 16384)                0         ['multiply[0][0]']            \n",
      "                                                                                                  \n",
      " dense_1 (Dense)             (None, 64)                   1048640   ['flatten[0][0]']             \n",
      "                                                                                                  \n",
      " dense_2 (Dense)             (None, 3)                    195       ['dense_1[0][0]']             \n",
      "                                                                                                  \n",
      "==================================================================================================\n",
      "Total params: 1397635 (5.33 MB)\n",
      "Trainable params: 1397635 (5.33 MB)\n",
      "Non-trainable params: 0 (0.00 Byte)\n",
      "__________________________________________________________________________________________________\n"
     ]
    }
   ],
   "source": [
    "from tensorflow.keras.models import Model\n",
    "\n",
    "inputs= Input(shape=(n_timesteps,n_features))\n",
    "\n",
    "lstm_out = LSTM(128, return_sequences=True)(inputs)\n",
    "lstm_out = LSTM(128, return_sequences=True)(lstm_out)\n",
    "lstm_out = LSTM(128, return_sequences=True)(lstm_out)\n",
    "lstm_out = Dropout(0.3)(lstm_out)\n",
    "attention_mul = attention_3d_block(lstm_out)\n",
    "attention_mul = Flatten()(attention_mul)\n",
    "\n",
    "##dense layer\n",
    "dense = Dense(64, activation='relu')(attention_mul)\n",
    "outputs = Dense(3, activation='softmax')(dense)\n",
    "model = Model(inputs, outputs)\n",
    "\n",
    "model.compile(loss='categorical_crossentropy', optimizer='adam', metrics=['accuracy'])\n",
    "model.summary()\n",
    "\n",
    "\n",
    "\n",
    "\n"
   ]
  },
  {
   "cell_type": "code",
   "execution_count": 30,
   "id": "773f2483",
   "metadata": {
    "colab": {
     "base_uri": "https://localhost:8080/",
     "height": 1000
    },
    "executionInfo": {
     "elapsed": 1283,
     "status": "ok",
     "timestamp": 1702342671908,
     "user": {
      "displayName": "이명규/컴퓨터공학부(컴퓨터공학전공)",
      "userId": "09675343185158048118"
     },
     "user_tz": -540
    },
    "id": "773f2483",
    "outputId": "aa8ee943-1231-4e46-966a-6f441f98ff01"
   },
   "outputs": [
    {
     "data": {
      "image/png": "[encoded data removed]",
      "text/plain": [
       "<IPython.core.display.Image object>"
      ]
     },
     "execution_count": 30,
     "metadata": {},
     "output_type": "execute_result"
    }
   ],
   "source": [
    "import tensorflow as tf\n",
    "tf.keras.utils.plot_model(model, to_file='model.png', show_shapes=True)\n"
   ]
  },
  {
   "cell_type": "code",
   "execution_count": 31,
   "id": "Q9YJ4M0IJvly",
   "metadata": {
    "colab": {
     "base_uri": "https://localhost:8080/"
    },
    "executionInfo": {
     "elapsed": 323,
     "status": "ok",
     "timestamp": 1702342706530,
     "user": {
      "displayName": "이명규/컴퓨터공학부(컴퓨터공학전공)",
      "userId": "09675343185158048118"
     },
     "user_tz": -540
    },
    "id": "Q9YJ4M0IJvly",
    "outputId": "bb21e0a0-5a0f-4096-8d12-b08ed4be689e"
   },
   "outputs": [
    {
     "name": "stdout",
     "output_type": "stream",
     "text": [
      "Model: \"model\"\n",
      "__________________________________________________________________________________________________\n",
      " Layer (type)                Output Shape                 Param #   Connected to                  \n",
      "==================================================================================================\n",
      " input_1 (InputLayer)        [(None, 128, 6)]             0         []                            \n",
      "                                                                                                  \n",
      " lstm (LSTM)                 (None, 128, 128)             69120     ['input_1[0][0]']             \n",
      "                                                                                                  \n",
      " lstm_1 (LSTM)               (None, 128, 128)             131584    ['lstm[0][0]']                \n",
      "                                                                                                  \n",
      " lstm_2 (LSTM)               (None, 128, 128)             131584    ['lstm_1[0][0]']              \n",
      "                                                                                                  \n",
      " dropout (Dropout)           (None, 128, 128)             0         ['lstm_2[0][0]']              \n",
      "                                                                                                  \n",
      " permute (Permute)           (None, 128, 128)             0         ['dropout[0][0]']             \n",
      "                                                                                                  \n",
      " dense (Dense)               (None, 128, 128)             16512     ['permute[0][0]']             \n",
      "                                                                                                  \n",
      " attention_vec (Permute)     (None, 128, 128)             0         ['dense[0][0]']               \n",
      "                                                                                                  \n",
      " multiply (Multiply)         (None, 128, 128)             0         ['dropout[0][0]',             \n",
      "                                                                     'attention_vec[0][0]']       \n",
      "                                                                                                  \n",
      " flatten (Flatten)           (None, 16384)                0         ['multiply[0][0]']            \n",
      "                                                                                                  \n",
      " dense_1 (Dense)             (None, 64)                   1048640   ['flatten[0][0]']             \n",
      "                                                                                                  \n",
      " dense_2 (Dense)             (None, 3)                    195       ['dense_1[0][0]']             \n",
      "                                                                                                  \n",
      "==================================================================================================\n",
      "Total params: 1397635 (5.33 MB)\n",
      "Trainable params: 1397635 (5.33 MB)\n",
      "Non-trainable params: 0 (0.00 Byte)\n",
      "__________________________________________________________________________________________________\n"
     ]
    }
   ],
   "source": [
    "model.summary()"
   ]
  },
  {
   "cell_type": "code",
   "execution_count": 32,
   "id": "8504c9a6",
   "metadata": {
    "colab": {
     "base_uri": "https://localhost:8080/"
    },
    "executionInfo": {
     "elapsed": 207999,
     "status": "ok",
     "timestamp": 1702342917004,
     "user": {
      "displayName": "이명규/컴퓨터공학부(컴퓨터공학전공)",
      "userId": "09675343185158048118"
     },
     "user_tz": -540
    },
    "id": "8504c9a6",
    "outputId": "30e0d86c-4418-4ff4-afe1-52189727593c",
    "scrolled": false
   },
   "outputs": [
    {
     "name": "stdout",
     "output_type": "stream",
     "text": [
      "Epoch 1/100\n"
     ]
    },
    {
     "name": "stderr",
     "output_type": "stream",
     "text": [
      "2025-01-23 10:02:51.362374: I tensorflow/compiler/xla/stream_executor/cuda/cuda_dnn.cc:442] Loaded cuDNN version 8907\n",
      "2025-01-23 10:02:52.203790: I tensorflow/compiler/xla/service/service.cc:168] XLA service 0x7feef4012f60 initialized for platform CUDA (this does not guarantee that XLA will be used). Devices:\n",
      "2025-01-23 10:02:52.203830: I tensorflow/compiler/xla/service/service.cc:176]   StreamExecutor device (0): CUDA GPU, Compute Capability 8.0\n",
      "2025-01-23 10:02:52.209009: I tensorflow/compiler/mlir/tensorflow/utils/dump_mlir_util.cc:269] disabling MLIR crash reproducer, set env var `MLIR_CRASH_REPRODUCER_DIRECTORY` to enable.\n",
      "2025-01-23 10:02:52.290043: I ./tensorflow/compiler/jit/device_compiler.h:186] Compiled cluster using XLA!  This line is logged at most once for the lifetime of the process.\n"
     ]
    },
    {
     "name": "stdout",
     "output_type": "stream",
     "text": [
      "72/72 [==============================] - 8s 38ms/step - loss: 0.7273 - accuracy: 0.6216 - val_loss: 0.4885 - val_accuracy: 0.7353\n",
      "Epoch 2/100\n",
      "72/72 [==============================] - 2s 27ms/step - loss: 0.2022 - accuracy: 0.9343 - val_loss: 0.1174 - val_accuracy: 0.9645\n",
      "Epoch 3/100\n",
      "72/72 [==============================] - 2s 27ms/step - loss: 0.1239 - accuracy: 0.9639 - val_loss: 0.0921 - val_accuracy: 0.9686\n",
      "Epoch 4/100\n",
      "72/72 [==============================] - 2s 27ms/step - loss: 0.0380 - accuracy: 0.9883 - val_loss: 0.0084 - val_accuracy: 0.9980\n",
      "Epoch 5/100\n",
      "72/72 [==============================] - 2s 27ms/step - loss: 0.0216 - accuracy: 0.9917 - val_loss: 0.0442 - val_accuracy: 0.9807\n",
      "Epoch 6/100\n",
      "72/72 [==============================] - 2s 27ms/step - loss: 0.0065 - accuracy: 0.9978 - val_loss: 0.0044 - val_accuracy: 0.9990\n",
      "Epoch 7/100\n",
      "72/72 [==============================] - 2s 27ms/step - loss: 0.0016 - accuracy: 1.0000 - val_loss: 0.0010 - val_accuracy: 1.0000\n",
      "Epoch 8/100\n",
      "72/72 [==============================] - 2s 27ms/step - loss: 2.1248e-04 - accuracy: 1.0000 - val_loss: 4.0389e-04 - val_accuracy: 1.0000\n",
      "Epoch 9/100\n",
      "72/72 [==============================] - 2s 27ms/step - loss: 1.3128e-04 - accuracy: 1.0000 - val_loss: 3.2888e-04 - val_accuracy: 1.0000\n",
      "Epoch 10/100\n",
      "72/72 [==============================] - 2s 27ms/step - loss: 1.0202e-04 - accuracy: 1.0000 - val_loss: 2.5748e-04 - val_accuracy: 1.0000\n",
      "Epoch 11/100\n",
      "72/72 [==============================] - 2s 27ms/step - loss: 9.6318e-05 - accuracy: 1.0000 - val_loss: 2.0391e-04 - val_accuracy: 1.0000\n",
      "Epoch 12/100\n",
      "72/72 [==============================] - 2s 27ms/step - loss: 6.6450e-05 - accuracy: 1.0000 - val_loss: 1.6433e-04 - val_accuracy: 1.0000\n",
      "Epoch 13/100\n",
      "72/72 [==============================] - 2s 27ms/step - loss: 6.3824e-05 - accuracy: 1.0000 - val_loss: 1.3506e-04 - val_accuracy: 1.0000\n",
      "Epoch 14/100\n",
      "72/72 [==============================] - 2s 27ms/step - loss: 4.5907e-05 - accuracy: 1.0000 - val_loss: 1.2414e-04 - val_accuracy: 1.0000\n",
      "Epoch 15/100\n",
      "72/72 [==============================] - 2s 27ms/step - loss: 4.4189e-05 - accuracy: 1.0000 - val_loss: 1.0772e-04 - val_accuracy: 1.0000\n",
      "Epoch 16/100\n",
      "72/72 [==============================] - 2s 27ms/step - loss: 3.8494e-05 - accuracy: 1.0000 - val_loss: 9.4396e-05 - val_accuracy: 1.0000\n",
      "Epoch 17/100\n",
      "72/72 [==============================] - 2s 27ms/step - loss: 3.6153e-05 - accuracy: 1.0000 - val_loss: 8.1726e-05 - val_accuracy: 1.0000\n",
      "Epoch 18/100\n",
      "72/72 [==============================] - 2s 27ms/step - loss: 3.6089e-05 - accuracy: 1.0000 - val_loss: 7.2936e-05 - val_accuracy: 1.0000\n",
      "Epoch 19/100\n",
      "72/72 [==============================] - 2s 27ms/step - loss: 3.2926e-05 - accuracy: 1.0000 - val_loss: 7.1839e-05 - val_accuracy: 1.0000\n",
      "Epoch 20/100\n",
      "72/72 [==============================] - 2s 27ms/step - loss: 2.2630e-05 - accuracy: 1.0000 - val_loss: 6.6958e-05 - val_accuracy: 1.0000\n",
      "Epoch 21/100\n",
      "72/72 [==============================] - 2s 27ms/step - loss: 2.7392e-05 - accuracy: 1.0000 - val_loss: 5.8798e-05 - val_accuracy: 1.0000\n",
      "Epoch 22/100\n",
      "72/72 [==============================] - 2s 27ms/step - loss: 1.9596e-05 - accuracy: 1.0000 - val_loss: 5.3577e-05 - val_accuracy: 1.0000\n",
      "Epoch 23/100\n",
      "72/72 [==============================] - 2s 27ms/step - loss: 1.7890e-05 - accuracy: 1.0000 - val_loss: 4.9085e-05 - val_accuracy: 1.0000\n",
      "Epoch 24/100\n",
      "72/72 [==============================] - 2s 27ms/step - loss: 1.6761e-05 - accuracy: 1.0000 - val_loss: 4.7655e-05 - val_accuracy: 1.0000\n",
      "Epoch 25/100\n",
      "72/72 [==============================] - 2s 27ms/step - loss: 1.6287e-05 - accuracy: 1.0000 - val_loss: 4.1365e-05 - val_accuracy: 1.0000\n",
      "Epoch 26/100\n",
      "72/72 [==============================] - 2s 27ms/step - loss: 1.8766e-05 - accuracy: 1.0000 - val_loss: 3.8616e-05 - val_accuracy: 1.0000\n",
      "Epoch 27/100\n",
      "72/72 [==============================] - 2s 27ms/step - loss: 1.4557e-05 - accuracy: 1.0000 - val_loss: 3.3653e-05 - val_accuracy: 1.0000\n",
      "Epoch 28/100\n",
      "72/72 [==============================] - 2s 27ms/step - loss: 1.5000e-05 - accuracy: 1.0000 - val_loss: 3.3848e-05 - val_accuracy: 1.0000\n",
      "Epoch 29/100\n",
      "72/72 [==============================] - 2s 27ms/step - loss: 1.4471e-05 - accuracy: 1.0000 - val_loss: 3.1630e-05 - val_accuracy: 1.0000\n",
      "Epoch 30/100\n",
      "72/72 [==============================] - 2s 27ms/step - loss: 1.2109e-05 - accuracy: 1.0000 - val_loss: 2.9711e-05 - val_accuracy: 1.0000\n",
      "Epoch 31/100\n",
      "72/72 [==============================] - 2s 27ms/step - loss: 1.1532e-05 - accuracy: 1.0000 - val_loss: 2.8289e-05 - val_accuracy: 1.0000\n",
      "Epoch 32/100\n",
      "72/72 [==============================] - 2s 27ms/step - loss: 8.5601e-06 - accuracy: 1.0000 - val_loss: 2.7222e-05 - val_accuracy: 1.0000\n",
      "Epoch 33/100\n",
      "72/72 [==============================] - 2s 27ms/step - loss: 9.1409e-06 - accuracy: 1.0000 - val_loss: 2.7286e-05 - val_accuracy: 1.0000\n",
      "Epoch 34/100\n",
      "72/72 [==============================] - 2s 27ms/step - loss: 7.2976e-06 - accuracy: 1.0000 - val_loss: 2.5817e-05 - val_accuracy: 1.0000\n",
      "Epoch 35/100\n",
      "72/72 [==============================] - 2s 27ms/step - loss: 6.8315e-06 - accuracy: 1.0000 - val_loss: 2.5272e-05 - val_accuracy: 1.0000\n",
      "Epoch 36/100\n",
      "72/72 [==============================] - 2s 27ms/step - loss: 7.0113e-06 - accuracy: 1.0000 - val_loss: 2.3177e-05 - val_accuracy: 1.0000\n",
      "Epoch 37/100\n",
      "72/72 [==============================] - 2s 28ms/step - loss: 6.6470e-06 - accuracy: 1.0000 - val_loss: 2.2541e-05 - val_accuracy: 1.0000\n",
      "Epoch 38/100\n",
      "72/72 [==============================] - 2s 27ms/step - loss: 5.9152e-06 - accuracy: 1.0000 - val_loss: 2.0367e-05 - val_accuracy: 1.0000\n",
      "Epoch 39/100\n",
      "72/72 [==============================] - 2s 27ms/step - loss: 4.7715e-06 - accuracy: 1.0000 - val_loss: 1.9780e-05 - val_accuracy: 1.0000\n",
      "Epoch 40/100\n",
      "72/72 [==============================] - 2s 27ms/step - loss: 5.1201e-06 - accuracy: 1.0000 - val_loss: 1.8628e-05 - val_accuracy: 1.0000\n",
      "Epoch 41/100\n",
      "72/72 [==============================] - 2s 27ms/step - loss: 5.2115e-06 - accuracy: 1.0000 - val_loss: 1.7545e-05 - val_accuracy: 1.0000\n",
      "Epoch 42/100\n",
      "72/72 [==============================] - 2s 27ms/step - loss: 4.7451e-06 - accuracy: 1.0000 - val_loss: 1.6641e-05 - val_accuracy: 1.0000\n",
      "Epoch 43/100\n",
      "72/72 [==============================] - 2s 27ms/step - loss: 3.9016e-06 - accuracy: 1.0000 - val_loss: 1.7471e-05 - val_accuracy: 1.0000\n",
      "Epoch 44/100\n",
      "72/72 [==============================] - 2s 27ms/step - loss: 9.1902e-06 - accuracy: 1.0000 - val_loss: 1.6019e-05 - val_accuracy: 1.0000\n",
      "Epoch 45/100\n",
      "72/72 [==============================] - 2s 27ms/step - loss: 3.7438e-06 - accuracy: 1.0000 - val_loss: 1.4484e-05 - val_accuracy: 1.0000\n",
      "Epoch 46/100\n",
      "72/72 [==============================] - 2s 27ms/step - loss: 4.0299e-06 - accuracy: 1.0000 - val_loss: 1.3907e-05 - val_accuracy: 1.0000\n",
      "Epoch 47/100\n",
      "72/72 [==============================] - 2s 27ms/step - loss: 3.7221e-06 - accuracy: 1.0000 - val_loss: 1.3435e-05 - val_accuracy: 1.0000\n",
      "Epoch 48/100\n",
      "72/72 [==============================] - 2s 27ms/step - loss: 4.2478e-06 - accuracy: 1.0000 - val_loss: 1.2906e-05 - val_accuracy: 1.0000\n",
      "Epoch 49/100\n",
      "72/72 [==============================] - 2s 27ms/step - loss: 3.1345e-06 - accuracy: 1.0000 - val_loss: 1.2200e-05 - val_accuracy: 1.0000\n",
      "Epoch 50/100\n",
      "72/72 [==============================] - 2s 27ms/step - loss: 2.6718e-06 - accuracy: 1.0000 - val_loss: 1.1878e-05 - val_accuracy: 1.0000\n",
      "Epoch 51/100\n",
      "72/72 [==============================] - 2s 27ms/step - loss: 2.1035e-06 - accuracy: 1.0000 - val_loss: 1.2337e-05 - val_accuracy: 1.0000\n",
      "Epoch 52/100\n",
      "72/72 [==============================] - 2s 27ms/step - loss: 2.6111e-06 - accuracy: 1.0000 - val_loss: 1.2077e-05 - val_accuracy: 1.0000\n",
      "Epoch 53/100\n",
      "72/72 [==============================] - 2s 27ms/step - loss: 2.2112e-06 - accuracy: 1.0000 - val_loss: 1.1498e-05 - val_accuracy: 1.0000\n",
      "Epoch 54/100\n",
      "72/72 [==============================] - 2s 27ms/step - loss: 2.3091e-06 - accuracy: 1.0000 - val_loss: 1.1239e-05 - val_accuracy: 1.0000\n",
      "Epoch 55/100\n",
      "72/72 [==============================] - 2s 27ms/step - loss: 2.2389e-06 - accuracy: 1.0000 - val_loss: 1.0362e-05 - val_accuracy: 1.0000\n"
     ]
    },
    {
     "name": "stdout",
     "output_type": "stream",
     "text": [
      "Epoch 56/100\n",
      "72/72 [==============================] - 2s 27ms/step - loss: 1.9562e-06 - accuracy: 1.0000 - val_loss: 1.0161e-05 - val_accuracy: 1.0000\n",
      "Epoch 57/100\n",
      "72/72 [==============================] - 2s 27ms/step - loss: 2.1511e-06 - accuracy: 1.0000 - val_loss: 9.0282e-06 - val_accuracy: 1.0000\n",
      "Epoch 58/100\n",
      "72/72 [==============================] - 2s 27ms/step - loss: 2.0686e-06 - accuracy: 1.0000 - val_loss: 8.5407e-06 - val_accuracy: 1.0000\n",
      "Epoch 59/100\n",
      "72/72 [==============================] - 2s 27ms/step - loss: 1.6289e-06 - accuracy: 1.0000 - val_loss: 8.1900e-06 - val_accuracy: 1.0000\n",
      "Epoch 60/100\n",
      "72/72 [==============================] - 2s 27ms/step - loss: 1.3305e-06 - accuracy: 1.0000 - val_loss: 7.9444e-06 - val_accuracy: 1.0000\n",
      "Epoch 61/100\n",
      "72/72 [==============================] - 2s 27ms/step - loss: 1.6784e-06 - accuracy: 1.0000 - val_loss: 7.6308e-06 - val_accuracy: 1.0000\n",
      "Epoch 62/100\n",
      "72/72 [==============================] - 2s 27ms/step - loss: 1.7202e-06 - accuracy: 1.0000 - val_loss: 7.1653e-06 - val_accuracy: 1.0000\n",
      "Epoch 63/100\n",
      "72/72 [==============================] - 2s 27ms/step - loss: 1.2956e-06 - accuracy: 1.0000 - val_loss: 7.2069e-06 - val_accuracy: 1.0000\n",
      "Epoch 64/100\n",
      "72/72 [==============================] - 2s 27ms/step - loss: 1.1115e-06 - accuracy: 1.0000 - val_loss: 6.9496e-06 - val_accuracy: 1.0000\n",
      "Epoch 65/100\n",
      "72/72 [==============================] - 2s 27ms/step - loss: 1.6729e-06 - accuracy: 1.0000 - val_loss: 6.4482e-06 - val_accuracy: 1.0000\n",
      "Epoch 66/100\n",
      "72/72 [==============================] - 2s 27ms/step - loss: 1.3213e-06 - accuracy: 1.0000 - val_loss: 6.5099e-06 - val_accuracy: 1.0000\n",
      "Epoch 67/100\n",
      "72/72 [==============================] - 2s 27ms/step - loss: 1.7265e-06 - accuracy: 1.0000 - val_loss: 6.0237e-06 - val_accuracy: 1.0000\n",
      "Epoch 68/100\n",
      "72/72 [==============================] - 2s 27ms/step - loss: 1.1434e-06 - accuracy: 1.0000 - val_loss: 5.8819e-06 - val_accuracy: 1.0000\n",
      "Epoch 69/100\n",
      "72/72 [==============================] - 2s 27ms/step - loss: 1.0043e-06 - accuracy: 1.0000 - val_loss: 5.7553e-06 - val_accuracy: 1.0000\n",
      "Epoch 70/100\n",
      "72/72 [==============================] - 2s 27ms/step - loss: 1.1202e-06 - accuracy: 1.0000 - val_loss: 5.8209e-06 - val_accuracy: 1.0000\n",
      "Epoch 71/100\n",
      "72/72 [==============================] - 2s 27ms/step - loss: 8.2526e-07 - accuracy: 1.0000 - val_loss: 5.7131e-06 - val_accuracy: 1.0000\n",
      "Epoch 72/100\n",
      "72/72 [==============================] - 2s 27ms/step - loss: 1.0241e-06 - accuracy: 1.0000 - val_loss: 5.3869e-06 - val_accuracy: 1.0000\n",
      "Epoch 73/100\n",
      "72/72 [==============================] - 2s 27ms/step - loss: 1.3223e-06 - accuracy: 1.0000 - val_loss: 5.2224e-06 - val_accuracy: 1.0000\n",
      "Epoch 74/100\n",
      "72/72 [==============================] - 2s 27ms/step - loss: 8.5190e-07 - accuracy: 1.0000 - val_loss: 5.3433e-06 - val_accuracy: 1.0000\n",
      "Epoch 75/100\n",
      "72/72 [==============================] - 2s 27ms/step - loss: 6.8605e-07 - accuracy: 1.0000 - val_loss: 4.8540e-06 - val_accuracy: 1.0000\n",
      "Epoch 76/100\n",
      "72/72 [==============================] - 2s 27ms/step - loss: 8.7049e-07 - accuracy: 1.0000 - val_loss: 4.7566e-06 - val_accuracy: 1.0000\n",
      "Epoch 77/100\n",
      "72/72 [==============================] - 2s 27ms/step - loss: 7.3694e-07 - accuracy: 1.0000 - val_loss: 4.4758e-06 - val_accuracy: 1.0000\n",
      "Epoch 78/100\n",
      "72/72 [==============================] - 2s 28ms/step - loss: 6.5727e-07 - accuracy: 1.0000 - val_loss: 4.0744e-06 - val_accuracy: 1.0000\n",
      "Epoch 79/100\n",
      "72/72 [==============================] - 2s 28ms/step - loss: 7.1631e-07 - accuracy: 1.0000 - val_loss: 4.4054e-06 - val_accuracy: 1.0000\n",
      "Epoch 80/100\n",
      "72/72 [==============================] - 2s 27ms/step - loss: 5.4900e-07 - accuracy: 1.0000 - val_loss: 4.3041e-06 - val_accuracy: 1.0000\n",
      "Epoch 81/100\n",
      "72/72 [==============================] - 2s 27ms/step - loss: 5.2318e-07 - accuracy: 1.0000 - val_loss: 4.2881e-06 - val_accuracy: 1.0000\n",
      "Epoch 82/100\n",
      "72/72 [==============================] - 2s 27ms/step - loss: 4.9352e-07 - accuracy: 1.0000 - val_loss: 4.0655e-06 - val_accuracy: 1.0000\n",
      "Epoch 83/100\n",
      "72/72 [==============================] - 2s 27ms/step - loss: 4.8968e-07 - accuracy: 1.0000 - val_loss: 3.7836e-06 - val_accuracy: 1.0000\n",
      "Epoch 84/100\n",
      "72/72 [==============================] - 2s 27ms/step - loss: 4.8642e-07 - accuracy: 1.0000 - val_loss: 3.7915e-06 - val_accuracy: 1.0000\n",
      "Epoch 85/100\n",
      "72/72 [==============================] - 2s 27ms/step - loss: 5.0964e-07 - accuracy: 1.0000 - val_loss: 3.7755e-06 - val_accuracy: 1.0000\n",
      "Epoch 86/100\n",
      "72/72 [==============================] - 2s 27ms/step - loss: 3.5830e-07 - accuracy: 1.0000 - val_loss: 3.8770e-06 - val_accuracy: 1.0000\n",
      "Epoch 87/100\n",
      "72/72 [==============================] - 2s 27ms/step - loss: 6.0032e-07 - accuracy: 1.0000 - val_loss: 3.4903e-06 - val_accuracy: 1.0000\n",
      "Epoch 88/100\n",
      "72/72 [==============================] - 2s 27ms/step - loss: 3.5161e-07 - accuracy: 1.0000 - val_loss: 3.2642e-06 - val_accuracy: 1.0000\n",
      "Epoch 89/100\n",
      "72/72 [==============================] - 2s 27ms/step - loss: 4.7101e-07 - accuracy: 1.0000 - val_loss: 3.0199e-06 - val_accuracy: 1.0000\n",
      "Epoch 90/100\n",
      "72/72 [==============================] - 2s 27ms/step - loss: 3.6379e-07 - accuracy: 1.0000 - val_loss: 2.7202e-06 - val_accuracy: 1.0000\n",
      "Epoch 91/100\n",
      "72/72 [==============================] - 2s 27ms/step - loss: 3.1739e-07 - accuracy: 1.0000 - val_loss: 2.6959e-06 - val_accuracy: 1.0000\n",
      "Epoch 92/100\n",
      "72/72 [==============================] - 2s 27ms/step - loss: 3.8961e-07 - accuracy: 1.0000 - val_loss: 2.7360e-06 - val_accuracy: 1.0000\n",
      "Epoch 93/100\n",
      "72/72 [==============================] - 2s 27ms/step - loss: 3.8484e-07 - accuracy: 1.0000 - val_loss: 2.6201e-06 - val_accuracy: 1.0000\n",
      "Epoch 94/100\n",
      "72/72 [==============================] - 2s 27ms/step - loss: 3.1687e-07 - accuracy: 1.0000 - val_loss: 2.4777e-06 - val_accuracy: 1.0000\n",
      "Epoch 95/100\n",
      "72/72 [==============================] - 2s 27ms/step - loss: 3.5275e-07 - accuracy: 1.0000 - val_loss: 2.4020e-06 - val_accuracy: 1.0000\n",
      "Epoch 96/100\n",
      "72/72 [==============================] - 2s 27ms/step - loss: 2.5496e-07 - accuracy: 1.0000 - val_loss: 2.2862e-06 - val_accuracy: 1.0000\n",
      "Epoch 97/100\n",
      "72/72 [==============================] - 2s 27ms/step - loss: 2.6963e-07 - accuracy: 1.0000 - val_loss: 2.2854e-06 - val_accuracy: 1.0000\n",
      "Epoch 98/100\n",
      "72/72 [==============================] - 2s 27ms/step - loss: 2.0015e-07 - accuracy: 1.0000 - val_loss: 2.2285e-06 - val_accuracy: 1.0000\n",
      "Epoch 99/100\n",
      "72/72 [==============================] - 2s 27ms/step - loss: 3.0660e-07 - accuracy: 1.0000 - val_loss: 2.1388e-06 - val_accuracy: 1.0000\n",
      "Epoch 100/100\n",
      "72/72 [==============================] - 2s 27ms/step - loss: 3.3593e-07 - accuracy: 1.0000 - val_loss: 2.1097e-06 - val_accuracy: 1.0000\n",
      "198.91703 sec\n"
     ]
    }
   ],
   "source": [
    "import math\n",
    "import time\n",
    "from keras.callbacks import EarlyStopping\n",
    "# EarlyStopping 설정\n",
    "early_stopping = EarlyStopping(\n",
    "    monitor='val_loss',     # 검증 손실 기준으로 조기 종료\n",
    "    patience=10,            # 개선되지 않을 경우 10 Epoch 후 종료\n",
    "    restore_best_weights=True  # 가장 좋은 가중치로 복원\n",
    ")\n",
    "\n",
    "start = time.time()\n",
    "#model_history=model.fit(X_train, y_train_one_hot, epochs=300, batch_size=32, validation_data=(X_val,y_val_one_hot), callbacks = [early_stopping])\n",
    "model_history=model.fit(X_train, y_train_one_hot, epochs=100, batch_size=32, validation_data=(X_val,y_val_one_hot), callbacks = [early_stopping])\n",
    "\n",
    "\n",
    "end = time.time()\n",
    "print(f\"{end - start:.5f} sec\")"
   ]
  },
  {
   "cell_type": "code",
   "execution_count": 33,
   "id": "836f4db8",
   "metadata": {
    "colab": {
     "base_uri": "https://localhost:8080/",
     "height": 472
    },
    "executionInfo": {
     "elapsed": 581,
     "status": "ok",
     "timestamp": 1696847436864,
     "user": {
      "displayName": "이명규/컴퓨터공학부(컴퓨터공학전공)",
      "userId": "09675343185158048118"
     },
     "user_tz": -540
    },
    "id": "836f4db8",
    "outputId": "b166d014-0fb3-436d-bf7c-31759c2869af"
   },
   "outputs": [
    {
     "data": {
      "image/png": "[encoded data removed]",
      "text/plain": [
       "<Figure size 640x480 with 1 Axes>"
      ]
     },
     "metadata": {},
     "output_type": "display_data"
    }
   ],
   "source": [
    "loss =model_history.history['loss']\n",
    "val_loss =model_history.history['val_loss']\n",
    "epochs = range(1, len(loss) + 1)\n",
    "plt.plot(epochs, loss, 'y', label='Training loss')\n",
    "plt.plot(epochs, val_loss, 'r', label='Validation loss')\n",
    "plt.title('Training and validation loss')\n",
    "plt.xlabel('Epochs')\n",
    "plt.ylabel('Loss')\n",
    "plt.legend()\n",
    "plt.show()"
   ]
  },
  {
   "cell_type": "code",
   "execution_count": 34,
   "id": "cd1e0f61",
   "metadata": {
    "colab": {
     "base_uri": "https://localhost:8080/",
     "height": 472
    },
    "executionInfo": {
     "elapsed": 529,
     "status": "ok",
     "timestamp": 1696847440324,
     "user": {
      "displayName": "이명규/컴퓨터공학부(컴퓨터공학전공)",
      "userId": "09675343185158048118"
     },
     "user_tz": -540
    },
    "id": "cd1e0f61",
    "outputId": "1e9796b3-e750-4b82-c592-11eff5c9ff50"
   },
   "outputs": [
    {
     "data": {
      "image/png": "[encoded data removed]",
      "text/plain": [
       "<Figure size 640x480 with 1 Axes>"
      ]
     },
     "metadata": {},
     "output_type": "display_data"
    }
   ],
   "source": [
    "acc =model_history.history['accuracy']\n",
    "val_acc =model_history.history['val_accuracy']\n",
    "plt.plot(epochs, acc, 'y', label='Training acc')\n",
    "plt.plot(epochs, val_acc, 'r', label='Validation acc')\n",
    "plt.title('Training and validation accuracy')\n",
    "plt.xlabel('Epochs')\n",
    "plt.ylabel('Accuracy')\n",
    "plt.legend()\n",
    "plt.show()"
   ]
  },
  {
   "cell_type": "code",
   "execution_count": 35,
   "id": "a36acf5d",
   "metadata": {
    "colab": {
     "base_uri": "https://localhost:8080/",
     "height": 720
    },
    "executionInfo": {
     "elapsed": 1860,
     "status": "ok",
     "timestamp": 1696847445138,
     "user": {
      "displayName": "이명규/컴퓨터공학부(컴퓨터공학전공)",
      "userId": "09675343185158048118"
     },
     "user_tz": -540
    },
    "id": "a36acf5d",
    "outputId": "f0679483-b6eb-4763-8ddc-bef9bd14db1f"
   },
   "outputs": [],
   "source": [
    "# from sklearn.metrics import confusion_matrix,classification_report,accuracy_score\n",
    "\n",
    "# predy = model.predict(testX)\n",
    "# predy = np.argmax(predy, axis=1)\n",
    "\n",
    "\n",
    "# cm= confusion_matrix(testy,predy)\n",
    "# print(cm)\n",
    "# print(accuracy_score(testy,predy))\n",
    "# print(classification_report(testy,predy))\n",
    "# sns.heatmap(cm, annot=True, fmt = '.2f')"
   ]
  },
  {
   "cell_type": "code",
   "execution_count": 36,
   "id": "5a69bcef",
   "metadata": {},
   "outputs": [
    {
     "name": "stdout",
     "output_type": "stream",
     "text": [
      "44/44 [==============================] - 1s 10ms/step\n",
      "Classification Report:\n",
      "                    precision    recall  f1-score   support\n",
      "\n",
      "           Walking       0.95      1.00      0.97       496\n",
      "  Walking Upstairs       1.00      0.95      0.97       471\n",
      "Walking Downstairs       1.00      1.00      1.00       420\n",
      "\n",
      "          accuracy                           0.98      1387\n",
      "         macro avg       0.98      0.98      0.98      1387\n",
      "      weighted avg       0.98      0.98      0.98      1387\n",
      "\n",
      "Test Accuracy: 0.98\n"
     ]
    },
    {
     "data": {
      "image/png": "[encoded data removed]",
      "text/plain": [
       "<Figure size 700x700 with 1 Axes>"
      ]
     },
     "metadata": {},
     "output_type": "display_data"
    }
   ],
   "source": [
    "from mlxtend.plotting import plot_confusion_matrix\n",
    "from sklearn.metrics import confusion_matrix, classification_report, accuracy_score\n",
    "import numpy as np\n",
    "\n",
    "# 예측 수행\n",
    "predy = model.predict(testX)\n",
    "predy = np.argmax(predy, axis=-1)  # 가장 확률이 높은 클래스를 선택\n",
    "\n",
    "# 테스트 라벨 (One-Hot Encoding → 정수형 라벨 변환)\n",
    "testy = np.argmax(testy_one_hot, axis=-1)  # 테스트 레이블 변환\n",
    "\n",
    "# 라벨 정의\n",
    "LABELS = ['Walking', 'Walking Upstairs', 'Walking Downstairs']\n",
    "\n",
    "# 혼동 행렬 생성\n",
    "cm = confusion_matrix(testy, predy)\n",
    "\n",
    "# 혼동 행렬 시각화\n",
    "plot_confusion_matrix(conf_mat=cm, class_names=LABELS, show_normed=True, figsize=(7,7))\n",
    "\n",
    "# 성능 보고서 출력\n",
    "print(\"Classification Report:\")\n",
    "print(classification_report(testy, predy, target_names=LABELS))\n",
    "\n",
    "# 정확도 출력\n",
    "accuracy = accuracy_score(testy, predy)\n",
    "print(f\"Test Accuracy: {accuracy:.2f}\")"
   ]
  },
  {
   "cell_type": "code",
   "execution_count": 37,
   "id": "63457bbb",
   "metadata": {},
   "outputs": [
    {
     "name": "stdout",
     "output_type": "stream",
     "text": [
      "[[494   1   1]\n",
      " [ 24 447   0]\n",
      " [  0   0 420]]\n",
      "0.9812545061283345\n",
      "0.9812327366754483\n",
      "              precision    recall  f1-score   support\n",
      "\n",
      "           0       0.95      1.00      0.97       496\n",
      "           1       1.00      0.95      0.97       471\n",
      "           2       1.00      1.00      1.00       420\n",
      "\n",
      "    accuracy                           0.98      1387\n",
      "   macro avg       0.98      0.98      0.98      1387\n",
      "weighted avg       0.98      0.98      0.98      1387\n",
      "\n"
     ]
    }
   ],
   "source": [
    "from sklearn.metrics import precision_score, recall_score, f1_score\n",
    "\n",
    "print(cm)\n",
    "print(accuracy_score(testy,predy))\n",
    "print(f1_score(testy,predy, average='weighted'))\n",
    "print(classification_report(testy,predy))"
   ]
  },
  {
   "cell_type": "code",
   "execution_count": 38,
   "id": "azdw7YVlUm75",
   "metadata": {
    "colab": {
     "base_uri": "https://localhost:8080/",
     "height": 724
    },
    "executionInfo": {
     "elapsed": 2950,
     "status": "ok",
     "timestamp": 1702343794478,
     "user": {
      "displayName": "이명규/컴퓨터공학부(컴퓨터공학전공)",
      "userId": "09675343185158048118"
     },
     "user_tz": -540
    },
    "id": "azdw7YVlUm75",
    "outputId": "6378dd8d-aaa7-47f7-bfd3-d7c7c55cb926"
   },
   "outputs": [],
   "source": [
    "# from sklearn.metrics import confusion_matrix,classification_report,accuracy_score\n",
    "\n",
    "# predy = model.predict(trainX)\n",
    "# predy = np.argmax(predy, axis=1)\n",
    "\n",
    "# cm= confusion_matrix(trainy,predy)\n",
    "# print(cm)\n",
    "# print(accuracy_score(trainy,predy))\n",
    "# print(classification_report(trainy,predy))\n",
    "# sns.heatmap(cm, annot=True, fmt = '.2f')"
   ]
  }
 ],
 "metadata": {
  "accelerator": "GPU",
  "colab": {
   "gpuType": "T4",
   "provenance": []
  },
  "kernelspec": {
   "display_name": "Python 3.10 (NGC 24.01 / TensorFlow 2.14) on Backend.AI",
   "language": "python",
   "name": "python3"
  },
  "language_info": {
   "codemirror_mode": {
    "name": "ipython",
    "version": 3
   },
   "file_extension": ".py",
   "mimetype": "text/x-python",
   "name": "python",
   "nbconvert_exporter": "python",
   "pygments_lexer": "ipython3",
   "version": "3.10.12"
  }
 },
 "nbformat": 4,
 "nbformat_minor": 5
}
